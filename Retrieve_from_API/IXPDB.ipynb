{
 "cells": [
  {
   "cell_type": "code",
   "execution_count": 1,
   "metadata": {},
   "outputs": [
    {
     "name": "stdout",
     "output_type": "stream",
     "text": [
      "hello world\n"
     ]
    }
   ],
   "source": [
    "print(\"hello world\")"
   ]
  },
  {
   "cell_type": "code",
   "execution_count": 1,
   "metadata": {},
   "outputs": [
    {
     "name": "stdout",
     "output_type": "stream",
     "text": [
      "Step 1: Getting all IDs of IXPs in the Peering database\n"
     ]
    }
   ],
   "source": [
    "## This script get all information needed about IXPs in PeeringDB using its API.\n",
    "## IXP Name, Localization, URL website, Graph ?, URL graphs stats, List of Peers (social networks at IX?)\n",
    "from datetime import datetime\n",
    "import json, requests, sys, time\n",
    "from pprint import pprint\n",
    "import os\n",
    "\n",
    "\n",
    "## This function requests the output of any API endpoint.\n",
    "def fetch_api_url(url):\n",
    "    r = requests.get(url)\n",
    "    #time.sleep(0.5) ## necessary to make sure that the output is fully fetched\n",
    "    content_url = r.content\n",
    "    # Put content_url in json variable and return it\n",
    "    json_val = {}\n",
    "    try:\n",
    "        json_val = json.loads(content_url)\n",
    "    except:\n",
    "        pass\n",
    "    return json_val\n",
    "\n",
    "\n",
    "print('Step 1: Getting all IDs of IXPs in the Peering database')\n",
    "query = \"https://api.ixpdb.net/v1/provider/list\"\n",
    "query2= \"https://api.ixpdb.net\"\n",
    "\n",
    "# If you want to fetch them all\n",
    "list_IXPs = fetch_api_url(query)\n",
    "\n",
    "\n"
   ]
  },
  {
   "cell_type": "code",
   "execution_count": 1,
   "metadata": {},
   "outputs": [],
   "source": [
    "#list_IXPs"
   ]
  },
  {
   "cell_type": "code",
   "execution_count": 3,
   "metadata": {},
   "outputs": [
    {
     "name": "stdout",
     "output_type": "stream",
     "text": [
      "Num IXPs in IXPDB =  553\n"
     ]
    }
   ],
   "source": [
    "print ('Num IXPs in IXPDB = ', len(list_IXPs))"
   ]
  },
  {
   "cell_type": "code",
   "execution_count": 4,
   "metadata": {},
   "outputs": [
    {
     "data": {
      "text/plain": [
       "['http://stats.balt-ix.net/graph.day',\n",
       " 'https://ixpmanager.bknix.co.th/grapher/infrastructure?id=1&type=log&period=day',\n",
       " 'https://www.bcix.de/ixp/grapher/infrastructure?id=1&type=log&period=day',\n",
       " 'https://portal.crix.cr/grapher/infrastructure?id=1&type=log&period=day',\n",
       " 'https://stats-ficix.basen.com/#/page?name=Ficix1Total&source=wiki',\n",
       " 'https://stats-ficix.basen.com/#/page?name=Ficix2Total&source=wiki',\n",
       " 'https://stats-ficix.basen.com/#/page?name=Ficix3Total&source=wiki',\n",
       " 'https://portal.gr-ix.gr/grapher/infrastructure?id=1&type=log&period=day',\n",
       " 'https://portal.gr-ix.gr/grapher/infrastructure?id=3&type=log&period=day',\n",
       " 'https://portal.hix.org.zw/grapher/infrastructure?id=1&type=log&period=day',\n",
       " 'https://www.inex.ie/ixp/grapher/infrastructure?id=3&type=log&period=day',\n",
       " 'https://www.inex.ie/ixp/grapher/infrastructure?id=1&type=log&period=day',\n",
       " 'https://www.inex.ie/ixp/grapher/infrastructure?id=2&type=log&period=day',\n",
       " 'https://portal.ixp.ht/grapher/ixp?id=1&type=json',\n",
       " 'https://ixpmanager.swissix.ch/grapher/infrastructure?id=1&type=log&period=day',\n",
       " 'https://portal.uixp.co.ug/grapher/infrastructure?id=1&type=log&period=day',\n",
       " 'https://manager.minap.it/grapher/ixp?id=1&type=log&period=day',\n",
       " 'https://my.namex.it/grapher/ixp?id=1&type=log&period=day',\n",
       " 'http://ix.nap.africa/grapher/infrastructure?id=2&type=log&period=day',\n",
       " 'http://ix.nap.africa/grapher/infrastructure?id=3&type=log&period=day',\n",
       " 'https://ix.nap.africa/grapher/infrastructure?id=1&type=log&period=day',\n",
       " 'https://www.nix.cz/euroixstats.php',\n",
       " 'https://www.nix.sk/euroixstats-sk.php',\n",
       " 'https://nms2.npix.net.np/grapher/infrastructure?id=1&type=log&period=day',\n",
       " 'https://www.six.sk/stats/aggregated.log',\n",
       " 'https://portal.sthix.net/grapher/infrastructure?id=1&type=log&period=day']"
      ]
     },
     "execution_count": 4,
     "metadata": {},
     "output_type": "execute_result"
    }
   ],
   "source": [
    "[r['traffic'] for r in  [d['apis']  for d in list_IXPs] if r['traffic']is not '']"
   ]
  },
  {
   "cell_type": "code",
   "execution_count": 5,
   "metadata": {},
   "outputs": [],
   "source": [
    "#[r['name'] for r in  list_IXPs]"
   ]
  },
  {
   "cell_type": "code",
   "execution_count": 15,
   "metadata": {},
   "outputs": [],
   "source": [
    "DB1=[]\n",
    "for i in range(len(list_IXPs)):\n",
    "    DB1.append({'pdb_id':list_IXPs[i]['pdb_id'],'id':list_IXPs[i]['id'],'Country':list_IXPs[i]['country'],'IXP_id':list_IXPs[i]['name'],'URL(website)':[],'Location':list_IXPs[i]['city'],'URL(Graph stats)':[]})"
   ]
  },
  {
   "cell_type": "code",
   "execution_count": 2,
   "metadata": {},
   "outputs": [],
   "source": [
    "#DB1"
   ]
  },
  {
   "cell_type": "code",
   "execution_count": 17,
   "metadata": {},
   "outputs": [
    {
     "name": "stdout",
     "output_type": "stream",
     "text": [
      "Stored 'DB1' (list)\n"
     ]
    }
   ],
   "source": [
    "%store DB1"
   ]
  },
  {
   "cell_type": "code",
   "execution_count": 18,
   "metadata": {},
   "outputs": [
    {
     "name": "stdout",
     "output_type": "stream",
     "text": [
      "Stored 'length_of_DB1' (int)\n"
     ]
    }
   ],
   "source": [
    "length_of_DB1=len(DB1)\n",
    "%store length_of_DB1"
   ]
  }
 ],
 "metadata": {
  "kernelspec": {
   "display_name": "Python 3",
   "language": "python",
   "name": "python3"
  },
  "language_info": {
   "codemirror_mode": {
    "name": "ipython",
    "version": 3
   },
   "file_extension": ".py",
   "mimetype": "text/x-python",
   "name": "python",
   "nbconvert_exporter": "python",
   "pygments_lexer": "ipython3",
   "version": "3.7.3"
  }
 },
 "nbformat": 4,
 "nbformat_minor": 2
}
