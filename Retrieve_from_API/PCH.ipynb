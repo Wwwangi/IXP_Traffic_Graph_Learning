{
 "cells": [
  {
   "cell_type": "code",
   "execution_count": 1,
   "metadata": {},
   "outputs": [
    {
     "name": "stdout",
     "output_type": "stream",
     "text": [
      "Step 1: Getting all IDs of IXPs in the Peering database\n"
     ]
    }
   ],
   "source": [
    "## This script get all information needed about IXPs in PCH using its API.\n",
    "from datetime import datetime\n",
    "import json, requests, sys, time\n",
    "from pprint import pprint\n",
    "import os\n",
    "\n",
    "\n",
    "## This function requests the output of any API endpoint.\n",
    "def fetch_api_url(url):\n",
    "    r = requests.get(url)\n",
    "    #time.sleep(0.5) ## necessary to make sure that the output is fully fetched\n",
    "    content_url = r.content\n",
    "    # Put content_url in json variable and return it\n",
    "    json_val = {}\n",
    "    try:\n",
    "        json_val = json.loads(content_url)\n",
    "    except:\n",
    "        pass\n",
    "    return json_val\n",
    "\n",
    "\n",
    "print('Step 1: Getting all IDs of IXPs in the Peering database')\n",
    "query = \"https://www.pch.net/api/ixp/directory/\"\n",
    "\n",
    "# If you want to fetch them all\n",
    "list_IXPs = fetch_api_url(query)"
   ]
  },
  {
   "cell_type": "code",
   "execution_count": 1,
   "metadata": {},
   "outputs": [],
   "source": [
    "#list_IXPs"
   ]
  }
 ],
 "metadata": {
  "kernelspec": {
   "display_name": "Python 3",
   "language": "python",
   "name": "python3"
  },
  "language_info": {
   "codemirror_mode": {
    "name": "ipython",
    "version": 3
   },
   "file_extension": ".py",
   "mimetype": "text/x-python",
   "name": "python",
   "nbconvert_exporter": "python",
   "pygments_lexer": "ipython3",
   "version": "3.7.3"
  }
 },
 "nbformat": 4,
 "nbformat_minor": 2
}
