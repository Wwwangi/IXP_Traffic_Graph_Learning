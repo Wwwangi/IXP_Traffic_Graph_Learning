{
 "cells": [
  {
   "cell_type": "code",
   "execution_count": 4,
   "metadata": {},
   "outputs": [
    {
     "name": "stdout",
     "output_type": "stream",
     "text": [
      "Step 1: Getting all IDs of IXPs in the Peering database\n",
      "Num IXPs in PeeringDB =  687\n"
     ]
    }
   ],
   "source": [
    "## This script get all information needed about IXPs in PeeringDB using its API.\n",
    "## IXP Name, Localization, URL website, Graph ?, URL graphs stats, List of Peers (social networks at IX?)\n",
    "import datetime\n",
    "import json, requests, sys, time\n",
    "from pprint import pprint\n",
    "import os\n",
    "\n",
    "\n",
    "## This function requests the output of any API endpoint.\n",
    "def fetch_api_url(url):\n",
    "    r = requests.get(url)\n",
    "    #time.sleep(0.5) ## necessary to make sure that the output is fully fetched\n",
    "    content_url = r.content\n",
    "    # Put content_url in json variable and return it\n",
    "    json_val = {}\n",
    "    try:\n",
    "        json_val = json.loads(content_url)\n",
    "    except:\n",
    "        pass\n",
    "    return json_val\n",
    "\n",
    "\n",
    "print('Step 1: Getting all IDs of IXPs in the Peering database')\n",
    "# If you want to fetch them all\n",
    "query1 = \"https://www.peeringdb.com/api/ix\"\n",
    "list_IXPs = fetch_api_url(query1)\n",
    "\n",
    "print ('Num IXPs in PeeringDB = ', len(list_IXPs['data']))"
   ]
  },
  {
   "cell_type": "code",
   "execution_count": 1,
   "metadata": {},
   "outputs": [],
   "source": [
    "#list_IXPs"
   ]
  },
  {
   "cell_type": "code",
   "execution_count": 29,
   "metadata": {},
   "outputs": [],
   "source": [
    "DB2=[]\n",
    "for i in range(len(list_IXPs['data'])):\n",
    "    DB2.append({'created':list_IXPs['data'][i]['created'],'region_continent':list_IXPs['data'][i]['region_continent'],'id':list_IXPs['data'][i]['id'],'Country':list_IXPs['data'][i]['country'],'IXP_id':list_IXPs['data'][i]['name'],'URL(website)':list_IXPs['data'][i]['website'],'Location':list_IXPs['data'][i]['city'],'URL(Graph stats)':list_IXPs['data'][i]['url_stats'],'Checktime':'','Status':''})"
   ]
  },
  {
   "cell_type": "code",
   "execution_count": 2,
   "metadata": {},
   "outputs": [],
   "source": [
    "#DB2"
   ]
  },
  {
   "cell_type": "code",
   "execution_count": 32,
   "metadata": {},
   "outputs": [],
   "source": [
    "DB_with_stats=[]\n",
    "for i in range(len(DB2)):\n",
    "    if(DB2[i]['URL(Graph stats)']!=''):\n",
    "        DB_with_stats.append(DB2[i])"
   ]
  },
  {
   "cell_type": "code",
   "execution_count": 3,
   "metadata": {},
   "outputs": [],
   "source": [
    "#DB_with_stats"
   ]
  },
  {
   "cell_type": "code",
   "execution_count": 34,
   "metadata": {},
   "outputs": [
    {
     "name": "stdout",
     "output_type": "stream",
     "text": [
      "SIX Seattle\n",
      "NYIIX\n",
      "NYIIX Los Angeles\n",
      "NYCX\n",
      "MadIX\n",
      "Oregon Internet Exchange (OIX)\n",
      "ChIX\n",
      "MICE\n",
      "MKE-IX\n",
      "SNAP\n",
      "Phoenix IX\n",
      "LINX NoVA\n",
      "DE-CIX New York\n",
      "TahoeIX\n",
      "AMS-IX Chicago\n",
      "FL-IX\n",
      "DET-IX\n",
      "MASS-IX\n",
      "MegaIX Seattle\n",
      "MegaIX Los Angeles\n",
      "MegaIX Dallas\n",
      "IX-Denver\n",
      "DE-CIX Dallas\n",
      "SIX Seattle (Jumbo)\n",
      "MegaIX Las Vegas\n",
      "CIX-ATL\n",
      "NNENIX\n",
      "PIT-IX\n",
      "Sacramento-IX\n",
      "Equinix Denver\n",
      "Equinix Houston\n",
      "Baltimore IX\n",
      "EVIX\n",
      "Digital Realty Chicago\n",
      "NYIIX Philadelphia\n",
      "STLIX\n"
     ]
    }
   ],
   "source": [
    "for r in DB_with_stats:\n",
    "    if(r['Country']=='US'):\n",
    "        print(r['IXP_id'])"
   ]
  },
  {
   "cell_type": "code",
   "execution_count": 35,
   "metadata": {},
   "outputs": [
    {
     "name": "stdout",
     "output_type": "stream",
     "text": [
      "Stored 'DB2' (list)\n"
     ]
    }
   ],
   "source": [
    "%store DB2"
   ]
  },
  {
   "cell_type": "code",
   "execution_count": 36,
   "metadata": {},
   "outputs": [
    {
     "name": "stdout",
     "output_type": "stream",
     "text": [
      "Stored 'length_of_DB2' (int)\n"
     ]
    }
   ],
   "source": [
    "length_of_DB2=len(DB2)\n",
    "%store length_of_DB2"
   ]
  }
 ],
 "metadata": {
  "kernelspec": {
   "display_name": "Python 3",
   "language": "python",
   "name": "python3"
  },
  "language_info": {
   "codemirror_mode": {
    "name": "ipython",
    "version": 3
   },
   "file_extension": ".py",
   "mimetype": "text/x-python",
   "name": "python",
   "nbconvert_exporter": "python",
   "pygments_lexer": "ipython3",
   "version": "3.7.3"
  }
 },
 "nbformat": 4,
 "nbformat_minor": 2
}
