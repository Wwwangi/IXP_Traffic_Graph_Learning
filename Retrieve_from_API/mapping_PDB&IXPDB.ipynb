{
 "cells": [
  {
   "cell_type": "code",
   "execution_count": 46,
   "metadata": {},
   "outputs": [],
   "source": [
    "file=open('IXP_PDB.csv')\n",
    "file.readline()\n",
    "\n",
    "PDB_data=[]\n",
    "\n",
    "for line in file:\n",
    "    items=line.strip().split(',')\n",
    "    Country=str(items[0])\n",
    "    ID=str(items[1])\n",
    "    name=str(items[2])\n",
    "    city=str(items[3])\n",
    "    region=str(items[4])\n",
    "    creation=str(items[5])\n",
    "    url=str(items[6])\n",
    "    stats=str(items[7])\n",
    "    #print(check)\n",
    "    PDB_data.append({'Country':Country,'ID':ID,'name':name,'city':city,'region':region,'creation':creation,'url':url,'stats':stats})"
   ]
  },
  {
   "cell_type": "code",
   "execution_count": 47,
   "metadata": {},
   "outputs": [],
   "source": [
    "file=open('IXP_IXPDB.csv')\n",
    "file.readline()\n",
    "\n",
    "IXPDB_data=[]\n",
    "\n",
    "for line in file:\n",
    "    items=line.strip().split(',')\n",
    "    Country=str(items[0])\n",
    "    ID=str(items[1])\n",
    "    PDB_ID=str(items[2])\n",
    "    name=str(items[3])\n",
    "    city=str(items[4])\n",
    "    update=str(items[5])\n",
    "    url=str(items[6])\n",
    "    #print(check)\n",
    "    IXPDB_data.append({'Country':Country,'ID':ID,'PDB_ID':PDB_ID,'name':name,'city':city,'update':update,'url':url})"
   ]
  },
  {
   "cell_type": "code",
   "execution_count": 48,
   "metadata": {},
   "outputs": [],
   "source": [
    "#IXPDB_data"
   ]
  },
  {
   "cell_type": "code",
   "execution_count": 49,
   "metadata": {},
   "outputs": [],
   "source": [
    "mapped=[]\n",
    "for i in range(len(PDB_data)):\n",
    "    temp_dic={}\n",
    "    check=0\n",
    "    temp_dic['IXP_Country_ISO_Alpha2']=PDB_data[i]['Country']\n",
    "    temp_dic['PDB_id']=PDB_data[i]['ID']\n",
    "    temp_dic['IXP_name_PDB']=PDB_data[i]['name']\n",
    "    temp_dic['IXP_City']=PDB_data[i]['city']\n",
    "    temp_dic['IXP_region_continent']=PDB_data[i]['region']\n",
    "    temp_dic['Date_Creation_IXP_PDB']=PDB_data[i]['creation']\n",
    "    temp_dic['IXP_Website']=PDB_data[i]['url']\n",
    "    temp_dic['IXP_Url_Stats']=PDB_data[i]['stats']\n",
    "    for same in IXPDB_data:\n",
    "        if(same['PDB_ID']==PDB_data[i]['ID']):\n",
    "            check=1\n",
    "            temp_dic['IXPDB_id']=same['ID']\n",
    "            temp_dic['IXP_name_IXPDB']=same['name']\n",
    "            temp_dic['Date_update_IXPDB']=same['update']\n",
    "            if(temp_dic['IXP_Website']==''):\n",
    "                temp_dic['IXP_Website']=same['url']\n",
    "    if(check==0):\n",
    "        temp_dic['IXPDB_id']=''\n",
    "        temp_dic['IXP_name_IXPDB']=''\n",
    "        temp_dic['Date_update_IXPDB']=''\n",
    "    mapped.append(temp_dic)"
   ]
  },
  {
   "cell_type": "code",
   "execution_count": 50,
   "metadata": {},
   "outputs": [],
   "source": [
    "#len(mapped)"
   ]
  },
  {
   "cell_type": "code",
   "execution_count": 51,
   "metadata": {},
   "outputs": [],
   "source": [
    "already=[]\n",
    "for tem in mapped:\n",
    "    already.append(tem['PDB_id'])"
   ]
  },
  {
   "cell_type": "code",
   "execution_count": 52,
   "metadata": {},
   "outputs": [],
   "source": [
    "#len(already)"
   ]
  },
  {
   "cell_type": "code",
   "execution_count": 53,
   "metadata": {},
   "outputs": [],
   "source": [
    "#sum=0\n",
    "for data in IXPDB_data:\n",
    "    temp_dic={}\n",
    "    if(data['PDB_ID'] not in already):\n",
    "        temp_dic['IXP_Country_ISO_Alpha2']=data['Country']\n",
    "        temp_dic['PDB_id']=data['PDB_ID']+'*'\n",
    "        temp_dic['IXP_name_PDB']=''\n",
    "        temp_dic['IXP_City']=data['city']\n",
    "        temp_dic['IXP_region_continent']=''\n",
    "        temp_dic['Date_Creation_IXP_PDB']=''\n",
    "        temp_dic['IXP_Website']=data['url']\n",
    "        temp_dic['IXP_Url_Stats']=''\n",
    "        temp_dic['IXPDB_id']=data['ID']\n",
    "        temp_dic['IXP_name_IXPDB']=data['name']\n",
    "        temp_dic['Date_update_IXPDB']=data['update']\n",
    "        mapped.append(temp_dic)\n",
    "        #sum+=1\n",
    "#print(sum)"
   ]
  },
  {
   "cell_type": "code",
   "execution_count": 54,
   "metadata": {},
   "outputs": [],
   "source": [
    "#mapped"
   ]
  },
  {
   "cell_type": "code",
   "execution_count": 55,
   "metadata": {},
   "outputs": [],
   "source": [
    "import csv\n",
    "with open('D://third/python/IXPmapped_PDB&IXPDB.csv','w',encoding='GB18030',newline='')as csvfile:\n",
    "    writer=csv.writer(csvfile)\n",
    "    writer.writerow(['IXP_Country_ISO_Alpha2','IXPDB_ID','PDB_ID','IXP_name_IXPDB','IXP_name_PDB','IXP_City','IXP_region_continent','Date_Creation_PDB','Date_update_IXPDB','IXP_Website','IXP_Url_Stats'])\n",
    "    for i in range(len(mapped)):\n",
    "        writer.writerow([mapped[i]['IXP_Country_ISO_Alpha2'],mapped[i]['IXPDB_id'],mapped[i]['PDB_id'],mapped[i]['IXP_name_IXPDB'],mapped[i]['IXP_name_PDB'],mapped[i]['IXP_City'],mapped[i]['IXP_region_continent'],mapped[i]['Date_Creation_IXP_PDB'],mapped[i]['Date_update_IXPDB'],mapped[i]['IXP_Website'],mapped[i]['IXP_Url_Stats']])\n",
    "        "
   ]
  },
  {
   "cell_type": "code",
   "execution_count": null,
   "metadata": {},
   "outputs": [],
   "source": []
  }
 ],
 "metadata": {
  "kernelspec": {
   "display_name": "Python 3",
   "language": "python",
   "name": "python3"
  },
  "language_info": {
   "codemirror_mode": {
    "name": "ipython",
    "version": 3
   },
   "file_extension": ".py",
   "mimetype": "text/x-python",
   "name": "python",
   "nbconvert_exporter": "python",
   "pygments_lexer": "ipython3",
   "version": "3.7.3"
  }
 },
 "nbformat": 4,
 "nbformat_minor": 2
}
