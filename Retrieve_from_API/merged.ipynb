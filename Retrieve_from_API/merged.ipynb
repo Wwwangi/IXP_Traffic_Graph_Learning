{
 "cells": [
  {
   "cell_type": "code",
   "execution_count": 20,
   "metadata": {},
   "outputs": [],
   "source": [
    "%store -r DB1\n",
    "%store -r DB2\n",
    "%store -r length_of_DB1\n",
    "%store -r length_of_DB2"
   ]
  },
  {
   "cell_type": "code",
   "execution_count": 21,
   "metadata": {},
   "outputs": [],
   "source": [
    "DB=[]\n",
    "for i in range(len(DB2)):\n",
    "    DB.append({'IXP_Country_ISO_Alpha2':DB2[i]['Country'],'IXPDB_ID':'','PCH_ID':'','PeeringDB_ID':DB2[i]['id'],'IXP_name':DB2[i]['IXP_id'],'IXP_City':DB2[i]['Location'],'IXP_region_continent':DB2[i]['region_continent'],'Date_Creation_IXP':DB2[i]['created'],'IXP_Website':DB2[i]['URL(website)'],'IXP_Url_Stats':DB2[i]['URL(Graph stats)'],'URL_stats_comments':'','Date_check_Stats':''})"
   ]
  },
  {
   "cell_type": "code",
   "execution_count": 34,
   "metadata": {},
   "outputs": [],
   "source": [
    "det=0\n",
    "for i in range(len(DB)):\n",
    "    det=0\n",
    "    for j in range(len(DB1)):\n",
    "        if(DB1[j]['pdb_id']==DB[i]['PeeringDB_ID']):\n",
    "            DB[i]['IXPDB_ID']=DB1[j]['id']\n",
    "            det=1\n",
    "    if(det==0):\n",
    "        DB[i]['IXPDB_ID']='None'"
   ]
  },
  {
   "cell_type": "code",
   "execution_count": 35,
   "metadata": {},
   "outputs": [],
   "source": [
    "DB_with_url_Stats=[]\n",
    "for i in range(len(DB)):\n",
    "    if(DB[i]['IXP_Url_Stats']!=''):\n",
    "        DB_with_url_Stats.append(DB[i])"
   ]
  },
  {
   "cell_type": "code",
   "execution_count": 36,
   "metadata": {},
   "outputs": [],
   "source": [
    "import csv\n",
    "with open('D://third/python/IXP.csv','w',encoding='GB18030',newline='')as csvfile:\n",
    "    writer=csv.writer(csvfile)\n",
    "    writer.writerow(['IXP_Country_ISO_Alpha2','IXPDB_ID','PCH_ID','PeeringDB_ID','IXP_name','IXP_City','IXP_region_continent','Date_Creation_IXP','IXP_Website','IXP_Url_Stats','URL_stats_comments','Date_check_Stats'])\n",
    "    for i in range(len(DB_with_url_Stats)):\n",
    "        writer.writerow([DB_with_url_Stats[i]['IXP_Country_ISO_Alpha2'],DB_with_url_Stats[i]['IXPDB_ID'],DB_with_url_Stats[i]['PCH_ID'],DB_with_url_Stats[i]['PeeringDB_ID'],DB_with_url_Stats[i]['IXP_name'],DB_with_url_Stats[i]['IXP_City'],DB_with_url_Stats[i]['IXP_region_continent'],DB_with_url_Stats[i]['Date_Creation_IXP'],DB_with_url_Stats[i]['IXP_Website'],DB_with_url_Stats[i]['IXP_Url_Stats'],DB_with_url_Stats[i]['URL_stats_comments'],DB_with_url_Stats[i]['Date_check_Stats']])\n",
    "        "
   ]
  },
  {
   "cell_type": "code",
   "execution_count": 1,
   "metadata": {},
   "outputs": [],
   "source": [
    "#DB_with_url_stats"
   ]
  }
 ],
 "metadata": {
  "kernelspec": {
   "display_name": "Python 3",
   "language": "python",
   "name": "python3"
  },
  "language_info": {
   "codemirror_mode": {
    "name": "ipython",
    "version": 3
   },
   "file_extension": ".py",
   "mimetype": "text/x-python",
   "name": "python",
   "nbconvert_exporter": "python",
   "pygments_lexer": "ipython3",
   "version": "3.7.3"
  }
 },
 "nbformat": 4,
 "nbformat_minor": 2
}
