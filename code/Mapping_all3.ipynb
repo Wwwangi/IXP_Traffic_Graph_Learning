{
 "cells": [
  {
   "cell_type": "code",
   "execution_count": 10,
   "metadata": {},
   "outputs": [],
   "source": [
    "%store -r mapped\n",
    "%store -r subnets\n",
    "%store -r DB3"
   ]
  },
  {
   "cell_type": "code",
   "execution_count": 2,
   "metadata": {},
   "outputs": [
    {
     "name": "stdout",
     "output_type": "stream",
     "text": [
      "{'id': '1440', 'name': 'Extreme IX Chennai v4', 'subnet': '45.120.251.0/24', 'protocol': 'IPv4', 'traffic_graph_url': '', 'traffic_url': '', 'traffic(in bytes)': '10000000', 'parent': '2010'}\n"
     ]
    }
   ],
   "source": [
    "for i in range(len(subnets)):\n",
    "    if (subnets[i]['id']=='1440'):\n",
    "        print(subnets[i])"
   ]
  },
  {
   "cell_type": "code",
   "execution_count": 3,
   "metadata": {},
   "outputs": [
    {
     "name": "stdout",
     "output_type": "stream",
     "text": [
      "346\n"
     ]
    }
   ],
   "source": [
    "sum=0\n",
    "for item in subnets:\n",
    "    if(item['traffic_graph_url']!=''):\n",
    "        sum+=1\n",
    "print(sum)"
   ]
  },
  {
   "cell_type": "code",
   "execution_count": 4,
   "metadata": {},
   "outputs": [
    {
     "data": {
      "text/plain": [
       "{'IXP_Country_ISO_Alpha2': 'US',\n",
       " 'PDB_id': '2',\n",
       " 'IXP_name_PDB': 'Equinix Chicago',\n",
       " 'IXP_City': 'Chicago',\n",
       " 'IXP_region_continent': 'North America',\n",
       " 'Date_Creation_IXP_PDB': '2010-07-29T00:00:00Z',\n",
       " 'IXP_Website': 'https://ix.equinix.com',\n",
       " 'IXP_Url_Stats': '',\n",
       " 'IXPDB_id': '236',\n",
       " 'IXP_name_IXPDB': 'Equinix Chicago (Equinix Chicago)',\n",
       " 'Date_update_IXPDB': '2019-08-07T13:04:58Z'}"
      ]
     },
     "execution_count": 4,
     "metadata": {},
     "output_type": "execute_result"
    }
   ],
   "source": [
    "mapped[1]"
   ]
  },
  {
   "cell_type": "code",
   "execution_count": 35,
   "metadata": {},
   "outputs": [],
   "source": [
    "file=open('pref.csv')\n",
    "file.readline()\n",
    "\n",
    "preff=[]\n",
    "k=[]\n",
    "\n",
    "for line in file:\n",
    "    k=[]\n",
    "    items=line.strip().split(',')\n",
    "    id_PDB=str(items[0])\n",
    "    prefixes=str(items[1])\n",
    "    count=prefixes.count('%')\n",
    "    for j in range(count+1):\n",
    "        k.append(prefixes.split('%')[j])\n",
    "        #print(k)\n",
    "    preff.append({'id':id_PDB,'prefix':k})"
   ]
  },
  {
   "cell_type": "code",
   "execution_count": 38,
   "metadata": {},
   "outputs": [
    {
     "data": {
      "text/plain": [
       "{'id': '2', 'prefix': ['208.115.136.0/23', '2001:504:0:4::/64']}"
      ]
     },
     "execution_count": 38,
     "metadata": {},
     "output_type": "execute_result"
    }
   ],
   "source": [
    "preff[1]"
   ]
  },
  {
   "cell_type": "code",
   "execution_count": 39,
   "metadata": {},
   "outputs": [
    {
     "data": {
      "text/plain": [
       "{'id': '946',\n",
       " 'Country': 'United States',\n",
       " 'IXP_id': 'Digital Realty Phoenix Internet Exchange',\n",
       " 'URL(website)': 'https://ix.digitalrealty.com/',\n",
       " 'Location': 'Phoenix',\n",
       " 'URL(Graph stats)': 'none',\n",
       " 'region_continent': 'North America',\n",
       " 'created': '20080602',\n",
       " 'updated': '2019-07-28',\n",
       " 'participants_url': 'https://ix.digitalrealty.com/'}"
      ]
     },
     "execution_count": 39,
     "metadata": {},
     "output_type": "execute_result"
    }
   ],
   "source": [
    "DB3[160]"
   ]
  },
  {
   "cell_type": "code",
   "execution_count": 52,
   "metadata": {},
   "outputs": [],
   "source": [
    "for i in range(len(mapped)):\n",
    "    aa=0\n",
    "    prefix_PDB=[]\n",
    "    graph=[]\n",
    "    comb=0\n",
    "    obtain=False\n",
    "    for x in preff:\n",
    "        if(mapped[i]['PDB_id']==str(x['id'])):\n",
    "            for m in range(len(x['prefix'])):\n",
    "                prefix_PDB.append(x['prefix'][m])\n",
    "            #print(prefix_PDB)\n",
    "    for j in range(len(prefix_PDB)):\n",
    "        for k in range(len(subnets)):\n",
    "            if(prefix_PDB[j]==subnets[k]['subnet']):\n",
    "                aa=1\n",
    "                cc=0\n",
    "                obtain=True\n",
    "                comb=subnets[k]['parent']\n",
    "                mapped[i]['PCH_id']=comb\n",
    "                #print(comb)\n",
    "                for item in subnets:\n",
    "                    if(item['parent']==comb and item['traffic_graph_url']!=''):\n",
    "                        graph.append(item['traffic_graph_url'])\n",
    "                if(len(graph)!=0):\n",
    "                    #print(len(graph))\n",
    "                    mapped[i]['graph_url_PCH']=graph\n",
    "                else:\n",
    "                    mapped[i]['graph_url_PCH']=''\n",
    "                for item in DB3:\n",
    "                    if(item['id']==comb):\n",
    "                        cc=1\n",
    "                        mapped[i]['IXP_name_PCH']=item['IXP_id']\n",
    "                        mapped[i]['Date_Creation_IXP_PCH']=item['created']\n",
    "                        mapped[i]['Date_updated_PCH']=item['updated']\n",
    "                if(cc==0):\n",
    "                    mapped[i]['IXP_name_PCH']=''\n",
    "                    mapped[i]['Date_Creation_IXP_PCH']=''\n",
    "                    mapped[i]['Date_updated_PCH']=''\n",
    "                break\n",
    "    if(aa==0):\n",
    "        mapped[i]['PCH_id']=''\n",
    "        mapped[i]['graph_url_PCH']=''\n",
    "        mapped[i]['IXP_name_PCH']=''\n",
    "        mapped[i]['Date_Creation_IXP_PCH']=''\n",
    "        mapped[i]['Date_updated_PCH']=''\n",
    "                \n",
    "        if(obtain==True):\n",
    "            break"
   ]
  },
  {
   "cell_type": "code",
   "execution_count": 53,
   "metadata": {},
   "outputs": [],
   "source": [
    "ToCheck=[]\n",
    "for i in range(len(mapped)):\n",
    "    ToCheck.append(mapped[i]['PCH_id'])"
   ]
  },
  {
   "cell_type": "code",
   "execution_count": 54,
   "metadata": {},
   "outputs": [
    {
     "name": "stdout",
     "output_type": "stream",
     "text": [
      "Requirement already satisfied: pycountry in c:\\users\\10111\\anaconda3\\lib\\site-packages (19.7.15)\n",
      "Note: you may need to restart the kernel to use updated packages.\n"
     ]
    }
   ],
   "source": [
    "pip install pycountry"
   ]
  },
  {
   "cell_type": "code",
   "execution_count": 55,
   "metadata": {},
   "outputs": [
    {
     "data": {
      "text/plain": [
       "{'id': '1124',\n",
       " 'Country': 'France',\n",
       " 'IXP_id': 'France-IX',\n",
       " 'URL(website)': 'https://www.franceix.net/en/',\n",
       " 'Location': 'Paris',\n",
       " 'URL(Graph stats)': 'none',\n",
       " 'region_continent': 'Europe',\n",
       " 'created': '20101100',\n",
       " 'updated': '2019-07-28',\n",
       " 'participants_url': 'https://www.franceix.net/en/france-ix-paris/members-in-paris/'}"
      ]
     },
     "execution_count": 55,
     "metadata": {},
     "output_type": "execute_result"
    }
   ],
   "source": [
    "DB3[5]"
   ]
  },
  {
   "cell_type": "code",
   "execution_count": 56,
   "metadata": {},
   "outputs": [
    {
     "data": {
      "text/plain": [
       "{'id': '195',\n",
       " 'name': 'AusBONE-BIX',\n",
       " 'subnet': '198.32.230.0/24',\n",
       " 'protocol': 'IPv4',\n",
       " 'traffic_graph_url': '',\n",
       " 'traffic_url': '',\n",
       " 'traffic(in bytes)': '0',\n",
       " 'parent': '4'}"
      ]
     },
     "execution_count": 56,
     "metadata": {},
     "output_type": "execute_result"
    }
   ],
   "source": [
    "subnets[5]"
   ]
  },
  {
   "cell_type": "code",
   "execution_count": 57,
   "metadata": {},
   "outputs": [],
   "source": [
    "import pycountry\n",
    "sum=0\n",
    "mapped1=[]\n",
    "for item in DB3:\n",
    "    tem_d={}\n",
    "    graph1=[]\n",
    "    if(item['id'] not in ToCheck):\n",
    "        sum+=1\n",
    "        if(item['Country']!=''):\n",
    "            change=pycountry.countries.get(name=item['Country'])\n",
    "            if change:\n",
    "                tem_d['IXP_Country_ISO_Alpha2']=change.alpha_2\n",
    "            else:\n",
    "                tem_d['IXP_Country_ISO_Alpha2']=''\n",
    "        else:\n",
    "            tem_d['IXP_Country_ISO_Alpha2']=''\n",
    "        tem_d['IXPDB_id']=''\n",
    "        tem_d['PCH_id']=item['id']\n",
    "        tem_d['PDB_id']=''\n",
    "        tem_d['IXP_name_IXPDB']=''\n",
    "        tem_d['IXP_name_PCH']=item['IXP_id']\n",
    "        tem_d['IXP_name_PDB']=''\n",
    "        tem_d['IXP_City']=item['Location']\n",
    "        tem_d['IXP_region_continent']=item['region_continent']\n",
    "        tem_d['Date_Creation_IXP_PDB']=''\n",
    "        tem_d['Date_Creation_IXP_PCH']=item['created']\n",
    "        tem_d['Date_updated_PCH']=item['updated']\n",
    "        tem_d['Date_update_IXPDB']=''\n",
    "        tem_d['IXP_Website']=item['URL(website)']\n",
    "        tem_d['IXP_Url_Stats']=''\n",
    "        for x in subnets:\n",
    "            if(x['parent']==item['id'] and x['traffic_graph_url']!=''):\n",
    "                graph1.append(x['traffic_graph_url'])\n",
    "        if(len(graph)!=0):\n",
    "            #print(len(graph))\n",
    "            tem_d['graph_url_PCH']=graph\n",
    "        else:\n",
    "            tem_d['graph_url_PCH']=''\n",
    "        tem_d['comment']=''\n",
    "        tem_d['date']=''\n",
    "        mapped1.append(tem_d)"
   ]
  },
  {
   "cell_type": "code",
   "execution_count": 58,
   "metadata": {},
   "outputs": [
    {
     "data": {
      "text/plain": [
       "957"
      ]
     },
     "execution_count": 58,
     "metadata": {},
     "output_type": "execute_result"
    }
   ],
   "source": [
    "len(DB3)  # Total number of IXPs in PCH dataset"
   ]
  },
  {
   "cell_type": "code",
   "execution_count": 59,
   "metadata": {},
   "outputs": [
    {
     "data": {
      "text/plain": [
       "513"
      ]
     },
     "execution_count": 59,
     "metadata": {},
     "output_type": "execute_result"
    }
   ],
   "source": [
    "len(mapped1)    # 957 - 619 = 338 IXP in PCH is matched with IXP in PDB"
   ]
  },
  {
   "cell_type": "code",
   "execution_count": 60,
   "metadata": {},
   "outputs": [
    {
     "data": {
      "text/plain": [
       "704"
      ]
     },
     "execution_count": 60,
     "metadata": {},
     "output_type": "execute_result"
    }
   ],
   "source": [
    "len(mapped)   # 704 - 338 = 366 rows do not have PCH IDs"
   ]
  },
  {
   "cell_type": "code",
   "execution_count": 61,
   "metadata": {},
   "outputs": [],
   "source": [
    "mapped2=[]\n",
    "mapped2=mapped+mapped1"
   ]
  },
  {
   "cell_type": "code",
   "execution_count": 62,
   "metadata": {},
   "outputs": [
    {
     "data": {
      "text/plain": [
       "1217"
      ]
     },
     "execution_count": 62,
     "metadata": {},
     "output_type": "execute_result"
    }
   ],
   "source": [
    "len(mapped2)   # Total number of entries in 3 dataset (the combination)"
   ]
  },
  {
   "cell_type": "code",
   "execution_count": 63,
   "metadata": {},
   "outputs": [
    {
     "data": {
      "text/plain": [
       "{'IXP_Country_ISO_Alpha2': 'US',\n",
       " 'PDB_id': '3',\n",
       " 'IXP_name_PDB': 'Equinix Dallas',\n",
       " 'IXP_City': 'Dallas',\n",
       " 'IXP_region_continent': 'North America',\n",
       " 'Date_Creation_IXP_PDB': '2010-07-29T00:00:00Z',\n",
       " 'IXP_Website': 'https://ix.equinix.com',\n",
       " 'IXP_Url_Stats': '',\n",
       " 'IXPDB_id': '235',\n",
       " 'IXP_name_IXPDB': 'Equinix Dallas (Equinix Dallas)',\n",
       " 'Date_update_IXPDB': '2019-08-07T13:04:58Z',\n",
       " 'PCH_id': '278',\n",
       " 'graph_url_PCH': '',\n",
       " 'IXP_name_PCH': 'Equinix IBX Dallas',\n",
       " 'Date_Creation_IXP_PCH': '20010615',\n",
       " 'Date_updated_PCH': '0000-00-00'}"
      ]
     },
     "execution_count": 63,
     "metadata": {},
     "output_type": "execute_result"
    }
   ],
   "source": [
    "mapped[2]"
   ]
  },
  {
   "cell_type": "code",
   "execution_count": 64,
   "metadata": {},
   "outputs": [
    {
     "data": {
      "text/plain": [
       "{'IXP_Country_ISO_Alpha2': '',\n",
       " 'IXPDB_id': '',\n",
       " 'PCH_id': '1270',\n",
       " 'PDB_id': '',\n",
       " 'IXP_name_IXPDB': '',\n",
       " 'IXP_name_PCH': 'DataIX Moscow',\n",
       " 'IXP_name_PDB': '',\n",
       " 'IXP_City': 'Moscow',\n",
       " 'IXP_region_continent': 'Europe',\n",
       " 'Date_Creation_IXP_PDB': '',\n",
       " 'Date_Creation_IXP_PCH': '20101020',\n",
       " 'Date_updated_PCH': '2019-07-28',\n",
       " 'Date_update_IXPDB': '',\n",
       " 'IXP_Website': 'http://www.dataix.ru/',\n",
       " 'IXP_Url_Stats': '',\n",
       " 'graph_url_PCH': '',\n",
       " 'comment': '',\n",
       " 'date': ''}"
      ]
     },
     "execution_count": 64,
     "metadata": {},
     "output_type": "execute_result"
    }
   ],
   "source": [
    "mapped1[2]"
   ]
  },
  {
   "cell_type": "code",
   "execution_count": 65,
   "metadata": {},
   "outputs": [],
   "source": [
    "import csv\n",
    "with open('D://third/python/mapping_all3_final.csv','w',encoding='GB18030',newline='')as csvfile:\n",
    "    writer=csv.writer(csvfile)\n",
    "    writer.writerow(['IXP_Country_ISO_Alpha2','IXPDB_ID','PCH_ID','PeeringDB_ID','IXP_name_IXPDB','IXP_name_PCH','IXP_name_PDB','IXP_City','IXP_region_continent','Date_Creation_PDB','Date_Creation_PCH','Date_Update_PCH','Date_Update_IXPDB','IXP_Website','IXP_Url_Stats','IXP_Url_Stats_PCH','Url_Stats_comments','Date_check_Stats'])\n",
    "    for i in range(len(mapped2)):\n",
    "        writer.writerow([mapped2[i]['IXP_Country_ISO_Alpha2'],mapped2[i]['IXPDB_id'],mapped2[i]['PCH_id'],mapped2[i]['PDB_id'],mapped2[i]['IXP_name_IXPDB'],mapped2[i]['IXP_name_PCH'],mapped2[i]['IXP_name_PDB'],mapped2[i]['IXP_City'],mapped2[i]['IXP_region_continent'],mapped2[i]['Date_Creation_IXP_PDB'],mapped2[i]['Date_Creation_IXP_PCH'],mapped2[i]['Date_updated_PCH'],mapped2[i]['Date_update_IXPDB'],mapped2[i]['IXP_Website'],mapped2[i]['IXP_Url_Stats'],mapped2[i]['graph_url_PCH'],'none','none'])\n",
    "  "
   ]
  },
  {
   "cell_type": "code",
   "execution_count": 66,
   "metadata": {},
   "outputs": [],
   "source": [
    "file=open('IXP.csv')\n",
    "file.readline()\n",
    "\n",
    "t=[]\n",
    "\n",
    "for line in file:\n",
    "    items=line.strip().split(',')\n",
    "    PeerDB_id=str(items[3])\n",
    "    comment=str(items[-2])\n",
    "    date=str(items[-1])\n",
    "    #print(check)\n",
    "    t.append({'PeerDB_id':PeerDB_id,'comment':comment,'date':date})"
   ]
  },
  {
   "cell_type": "code",
   "execution_count": 69,
   "metadata": {},
   "outputs": [],
   "source": [
    "#t"
   ]
  },
  {
   "cell_type": "code",
   "execution_count": 68,
   "metadata": {},
   "outputs": [],
   "source": [
    "import csv\n",
    "with open('D://third/python/mapping_all3_with_graph_url_final.csv','w',encoding='GB18030',newline='')as csvfile:\n",
    "    writer=csv.writer(csvfile)\n",
    "    writer.writerow(['IXP_Country_ISO_Alpha2','IXPDB_ID','PCH_ID','PeeringDB_ID','IXP_name_IXPDB','IXP_name_PCH','IXP_name_PDB','IXP_City','IXP_region_continent','Date_Creation_PDB','Date_Creation_PCH','Date_Update_PCH','Date_Update_IXPDB','IXP_Website','IXP_Url_Stats','IXP_Url_Stats_PCH','Url_Stats_comments','Date_check_Stats'])\n",
    "    for i in range(len(mapped2)):\n",
    "        check=0\n",
    "        for item in t:\n",
    "            if(item['PeerDB_id']==mapped2[i]['PDB_id']):\n",
    "                check=1\n",
    "                mapped2[i]['comment']=item['comment']\n",
    "                mapped2[i]['date']=item['date']\n",
    "            if(check==0):\n",
    "                mapped2[i]['comment']=''\n",
    "                mapped2[i]['date']=''\n",
    "        if(mapped2[i]['IXP_Url_Stats']!='' or mapped2[i]['graph_url_PCH']!=''):\n",
    "            writer.writerow([mapped2[i]['IXP_Country_ISO_Alpha2'],mapped2[i]['IXPDB_id'],mapped2[i]['PCH_id'],mapped2[i]['PDB_id'],mapped2[i]['IXP_name_IXPDB'],mapped2[i]['IXP_name_PCH'],mapped2[i]['IXP_name_PDB'],mapped2[i]['IXP_City'],mapped2[i]['IXP_region_continent'],mapped2[i]['Date_Creation_IXP_PDB'],mapped2[i]['Date_Creation_IXP_PCH'],mapped2[i]['Date_updated_PCH'],mapped2[i]['Date_update_IXPDB'],mapped2[i]['IXP_Website'],mapped2[i]['IXP_Url_Stats'],mapped2[i]['graph_url_PCH'],mapped2[i]['comment'],mapped2[i]['date']])\n",
    "  "
   ]
  },
  {
   "cell_type": "code",
   "execution_count": 85,
   "metadata": {},
   "outputs": [],
   "source": [
    "for i in mapped2:\n",
    "    #print(mapped2[i]['IXP_Country_ISO_Alpha2'])\n",
    "    i['IXPDB_id']"
   ]
  },
  {
   "cell_type": "code",
   "execution_count": null,
   "metadata": {},
   "outputs": [],
   "source": []
  }
 ],
 "metadata": {
  "kernelspec": {
   "display_name": "Python 3",
   "language": "python",
   "name": "python3"
  },
  "language_info": {
   "codemirror_mode": {
    "name": "ipython",
    "version": 3
   },
   "file_extension": ".py",
   "mimetype": "text/x-python",
   "name": "python",
   "nbconvert_exporter": "python",
   "pygments_lexer": "ipython3",
   "version": "3.7.3"
  }
 },
 "nbformat": 4,
 "nbformat_minor": 2
}
