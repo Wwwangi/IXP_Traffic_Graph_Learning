{
 "cells": [
  {
   "cell_type": "code",
   "execution_count": 7,
   "metadata": {},
   "outputs": [
    {
     "name": "stdout",
     "output_type": "stream",
     "text": [
      "done\n"
     ]
    }
   ],
   "source": [
    "combined_data=[]\n",
    "\n",
    "for i in range(10):\n",
    "    filedir='0420-0520-00000000000'+str(i)+'-delete_1hour.csv'\n",
    "    file=open(filedir)\n",
    "    file.readline()\n",
    "\n",
    "    for line in file:\n",
    "        items=line.strip().split(',')\n",
    "        oaid=str(items[0])\n",
    "        hr=str(items[1])\n",
    "        cnt_home=int(items[2])\n",
    "        cnt_join=int(items[3])\n",
    "        cnt_item=int(items[4])\n",
    "        cnt_purc=int(items[5])\n",
    "        cnt_42568=int(items[6])\n",
    "        cnt_44952=int(items[7])\n",
    "        cnt_22243=int(items[8])\n",
    "        cnt_mobile_device=int(items[9])\n",
    "        cnt_computer=int(items[10])\n",
    "        combined_data.append({'oaid':oaid,'hr':hr,'cnt_home':cnt_home,'cnt_join':cnt_join,'cnt_item':cnt_item,'cnt_purc':cnt_purc,'cnt_42568':cnt_42568,'cnt_44952':cnt_44952,'cnt_22243':cnt_22243,'cnt_mobile_device':cnt_mobile_device,'cnt_computer':cnt_computer})\n",
    "    \n",
    "    file.close()\n",
    "print('done')"
   ]
  },
  {
   "cell_type": "code",
   "execution_count": 8,
   "metadata": {},
   "outputs": [
    {
     "data": {
      "text/plain": [
       "2238787"
      ]
     },
     "execution_count": 8,
     "metadata": {},
     "output_type": "execute_result"
    }
   ],
   "source": [
    "len(combined_data)"
   ]
  },
  {
   "cell_type": "code",
   "execution_count": 9,
   "metadata": {},
   "outputs": [
    {
     "data": {
      "text/plain": [
       "{'oaid': 'i_3aead1d662684ad6bb4908f8a52037cb',\n",
       " 'hr': '2019051322',\n",
       " 'cnt_home': 12,\n",
       " 'cnt_join': 0,\n",
       " 'cnt_item': 6,\n",
       " 'cnt_purc': 0,\n",
       " 'cnt_42568': 0,\n",
       " 'cnt_44952': 18,\n",
       " 'cnt_22243': 0,\n",
       " 'cnt_mobile_device': 18,\n",
       " 'cnt_computer': 0}"
      ]
     },
     "execution_count": 9,
     "metadata": {},
     "output_type": "execute_result"
    }
   ],
   "source": [
    "combined_data[2238786]"
   ]
  },
  {
   "cell_type": "code",
   "execution_count": 11,
   "metadata": {},
   "outputs": [
    {
     "name": "stdout",
     "output_type": "stream",
     "text": [
      "done\n"
     ]
    }
   ],
   "source": [
    "import csv\n",
    "\n",
    "filepath='D://third/python/0420-0520-users_with_more_than_1_action.csv'\n",
    "with open(filepath,'w',encoding='GB18030',newline='')as csvfile:\n",
    "    writer=csv.writer(csvfile)\n",
    "    writer.writerow(['oaid','hr','cnt_home','cnt_join','cnt_item','cnt_purc','cnt_42568','cnt_44952','cnt_22243','cnt_mobile_device','cnt_computer'])\n",
    "    for i in range(len(combined_data)):\n",
    "        writer.writerow([combined_data[i]['oaid'],combined_data[i]['hr'],combined_data[i]['cnt_home'],combined_data[i]['cnt_join'],combined_data[i]['cnt_item'],combined_data[i]['cnt_purc'],combined_data[i]['cnt_42568'],combined_data[i]['cnt_44952'],combined_data[i]['cnt_22243'],combined_data[i]['cnt_mobile_device'],combined_data[i]['cnt_computer']])\n",
    "    \n",
    "print('done')"
   ]
  },
  {
   "cell_type": "code",
   "execution_count": null,
   "metadata": {},
   "outputs": [],
   "source": []
  }
 ],
 "metadata": {
  "kernelspec": {
   "display_name": "Python 3",
   "language": "python",
   "name": "python3"
  },
  "language_info": {
   "codemirror_mode": {
    "name": "ipython",
    "version": 3
   },
   "file_extension": ".py",
   "mimetype": "text/x-python",
   "name": "python",
   "nbconvert_exporter": "python",
   "pygments_lexer": "ipython3",
   "version": "3.7.3"
  }
 },
 "nbformat": 4,
 "nbformat_minor": 2
}
